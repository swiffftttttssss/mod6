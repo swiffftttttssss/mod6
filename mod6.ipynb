{
 "cells": [
  {
   "cell_type": "code",
   "execution_count": 15,
   "id": "63e517f7",
   "metadata": {},
   "outputs": [],
   "source": [
    "import datetime\n",
    "\n",
    "today = datetime.date.today()\n",
    "date_str = str(today)\n",
    "file = open(\"today.txt\", \"w\")\n",
    "file.write(date_str)          \n",
    "file.close()  "
   ]
  },
  {
   "cell_type": "code",
   "execution_count": 16,
   "id": "63121ae6",
   "metadata": {},
   "outputs": [],
   "source": [
    "file = open(\"today.txt\", \"r\")\n",
    "today_string = file.read()\n",
    "file.close()"
   ]
  },
  {
   "cell_type": "code",
   "execution_count": 17,
   "id": "78028924",
   "metadata": {},
   "outputs": [],
   "source": [
    "import datetime\n",
    "\n",
    "date_str = today_string.strip()\n",
    "date = datetime.datetime.strptime(date_str, \"%Y-%m-%d\").date()"
   ]
  },
  {
   "cell_type": "code",
   "execution_count": 14,
   "id": "287810ca",
   "metadata": {},
   "outputs": [
    {
     "name": "stdout",
     "output_type": "stream",
     "text": [
      "Today's date and time is 2023-04-30 18:02:39.211592\n",
      "Today's date and time is 2023-04-30 18:02:39.941585\n",
      "Today's date and time is 2023-04-30 18:02:40.578208\n"
     ]
    }
   ],
   "source": [
    "import multiprocessing\n",
    "from datetime import datetime\n",
    "import time\n",
    "import random\n",
    "\n",
    "def ptime():\n",
    "   cur = datetime.now()\n",
    "   print(\"Today's date and time is {}\".format(cur))\n",
    "   time.sleep(random.random())\n",
    "\n",
    "if __name__ == '__main__':\n",
    "   proc1 = multiprocessing.Process(target=ptime())\n",
    "   proc2 = multiprocessing.Process(target=ptime())\n",
    "   proc3 = multiprocessing.Process(target=ptime())\n",
    "   proc1.start()\n",
    "   proc2.start()\n",
    "   proc3.start()\n",
    "   proc1.join()\n",
    "   proc2.join()\n",
    "   proc3.join()"
   ]
  },
  {
   "cell_type": "code",
   "execution_count": null,
   "id": "0e139ed7",
   "metadata": {},
   "outputs": [],
   "source": []
  },
  {
   "cell_type": "code",
   "execution_count": null,
   "id": "5c1e6698",
   "metadata": {},
   "outputs": [],
   "source": []
  }
 ],
 "metadata": {
  "kernelspec": {
   "display_name": "Python 3 (ipykernel)",
   "language": "python",
   "name": "python3"
  },
  "language_info": {
   "codemirror_mode": {
    "name": "ipython",
    "version": 3
   },
   "file_extension": ".py",
   "mimetype": "text/x-python",
   "name": "python",
   "nbconvert_exporter": "python",
   "pygments_lexer": "ipython3",
   "version": "3.10.9"
  }
 },
 "nbformat": 4,
 "nbformat_minor": 5
}
